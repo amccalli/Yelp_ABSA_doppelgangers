{
 "cells": [
  {
   "cell_type": "code",
   "execution_count": 93,
   "metadata": {},
   "outputs": [],
   "source": [
    "import numpy as np\n",
    "import pandas as pd\n",
    "import ipywidgets as widgets\n",
    "from ipywidgets import interact, interact_manual, fixed"
   ]
  },
  {
   "cell_type": "markdown",
   "metadata": {},
   "source": [
    "Read in restaurant reviews data_frame from reviews_NLP_tagging.ipynb and only take 5 star reviews (highly recommended)"
   ]
  },
  {
   "cell_type": "code",
   "execution_count": 75,
   "metadata": {},
   "outputs": [],
   "source": [
    "rest_reviews = pd.read_pickle('reviews_for_freq_user_merge.p')"
   ]
  },
  {
   "cell_type": "code",
   "execution_count": 76,
   "metadata": {},
   "outputs": [],
   "source": [
    "fivestar_reviews = rest_reviews[rest_reviews['stars_x']== 5.0]"
   ]
  },
  {
   "cell_type": "markdown",
   "metadata": {},
   "source": [
    "Read in coefficients for each user analyzed"
   ]
  },
  {
   "cell_type": "code",
   "execution_count": 8,
   "metadata": {},
   "outputs": [],
   "source": [
    "freq_users_coef = pd.read_pickle('freq_users_coef.p')"
   ]
  },
  {
   "cell_type": "markdown",
   "metadata": {},
   "source": [
    "Function to grab Taste Doppelgangers sorts dictionary by correlation between users'coeficient and other users'\n",
    "\n",
    "Reutrns sorted dictionary where key is user id and value is correlation"
   ]
  },
  {
   "cell_type": "code",
   "execution_count": 106,
   "metadata": {},
   "outputs": [],
   "source": [
    "def get_doppelgangers(User_ID, freq_users_coef):\n",
    "    User_Coef = freq_users_coef[User_ID]\n",
    "    Dopplegangers_Dict = {k: np.corrcoef(v, User_Coef)[0,1] for k, v in \\\n",
    "                          sorted(freq_users_coef.items(), key = lambda kv: -np.corrcoef(kv[1], User_Coef)[0,1])}\n",
    "    return Dopplegangers_Dict"
   ]
  },
  {
   "cell_type": "markdown",
   "metadata": {},
   "source": [
    "Goes through user ids in Dopplegangers_Dict grabs doppelganger and searches their reviews for restaurant that matches requirements\n",
    "\n",
    "Returns matching restaurant name and doppleganger's user id"
   ]
  },
  {
   "cell_type": "code",
   "execution_count": 108,
   "metadata": {},
   "outputs": [],
   "source": [
    "def get_recommendation(User_ID, Dopplegangers_Dict, Restaurant_Type, fivestar_reviews):\n",
    "    for user_id in Dopplegangers_Dict.keys():\n",
    "        if user_id != User_ID:\n",
    "            doppleganger_recs = fivestar_reviews[fivestar_reviews['user_id'] == user_id]\n",
    "            matches = doppleganger_recs[doppleganger_recs['categories'].str.contains(Restaurant_Type, na=False)]\\\n",
    "                .sort_values(by = 'stars_y', ascending=False)['name'].to_list()\n",
    "            if matches:\n",
    "                return matches[0], user_id"
   ]
  },
  {
   "cell_type": "markdown",
   "metadata": {},
   "source": [
    "Puts Everything together\n",
    "Returns name of recommended restaurant and score of dopplganger that gave it (correlation*100)"
   ]
  },
  {
   "cell_type": "code",
   "execution_count": 124,
   "metadata": {},
   "outputs": [],
   "source": [
    "def get_doppel_rec(User_ID,Restaurant_Type, freq_users_coef, fivestar_reviews):\n",
    "    Dopplegangers_Dict = get_doppelgangers(User_ID, freq_users_coef)\n",
    "    rest_rec, dopple_id = get_recommendation(User_ID, Dopplegangers_Dict, Restaurant_Type, fivestar_reviews)\n",
    "    return f'Your Taste Doppleganger highly recommends: {rest_rec} with a doppleganger score of {np.int(Dopplegangers_Dict[dopple_id]*100)}%'"
   ]
  },
  {
   "cell_type": "markdown",
   "metadata": {},
   "source": [
    "Toy example: Change User ID requesting recomendation and Restaurant Type and see how recommendation changes"
   ]
  },
  {
   "cell_type": "code",
   "execution_count": 125,
   "metadata": {},
   "outputs": [
    {
     "data": {
      "application/vnd.jupyter.widget-view+json": {
       "model_id": "ab893698261c4e40875ef82262132af5",
       "version_major": 2,
       "version_minor": 0
      },
      "text/plain": [
       "interactive(children=(Dropdown(description='User_ID', options=('CxDOIDnH8gp9KXzpBHJYXw', 'bLbSNkLggFnqwNNzzq-I…"
      ]
     },
     "metadata": {},
     "output_type": "display_data"
    },
    {
     "data": {
      "text/plain": [
       "<function __main__.get_doppel_rec(User_ID, Restaurant_Type, freq_users_coef, fivestar_reviews)>"
      ]
     },
     "execution_count": 125,
     "metadata": {},
     "output_type": "execute_result"
    }
   ],
   "source": [
    "interact(get_doppel_rec, User_ID=freq_users,\\\n",
    "         Restaurant_Type = ['Japanese', 'Chinese', 'American', 'Italian', 'Pizza', 'Indian', 'Coffee', 'Vietnamese','Mexican'],\\\n",
    "         freq_users_coef = fixed(freq_users_coef),\\\n",
    "         fivestar_reviews = fixed(fivestar_reviews))"
   ]
  },
  {
   "cell_type": "code",
   "execution_count": null,
   "metadata": {},
   "outputs": [],
   "source": []
  }
 ],
 "metadata": {
  "kernelspec": {
   "display_name": "Python 3",
   "language": "python",
   "name": "python3"
  },
  "language_info": {
   "codemirror_mode": {
    "name": "ipython",
    "version": 3
   },
   "file_extension": ".py",
   "mimetype": "text/x-python",
   "name": "python",
   "nbconvert_exporter": "python",
   "pygments_lexer": "ipython3",
   "version": "3.7.4"
  }
 },
 "nbformat": 4,
 "nbformat_minor": 2
}
